{
 "cells": [
  {
   "cell_type": "markdown",
   "metadata": {},
   "source": [
    "# 3 - n-gram及共现\n",
    "首先思考一个问题，如何计算一句话(语法/意义)正确的概率？\n",
    "\n",
    "对于一个分词后的句子，如`[\"boldly\",\"go\",\"where\",\"no\",\"man\",\"has\",\"gone\",\"before\"]`，如果我们直接利用词袋的思想，独立地考察各个单词出现概率的组合，即：\n",
    "\n",
    "$$p_{sent} = p(\"boldly\")p(\"go\")...p(\"before\")$$\n",
    "\n",
    "那么将其与另外一个完全错误的句子`\"go man where has no gone boldly before\"`比较，两者的计算结果相等。这意味着句子的语法结构以及语序意义被完全打乱了。\n",
    "\n",
    "考虑自然语言中的语法规则是自成体系的，以英语为例，\"go man\"或是\"boldly before\"这种搭配几乎不可能发生，所以我们可以引入条件概率，将表达式改为：\n",
    "\n",
    "$$p_{sent} = p(\"boldly\")p(\"go\"|\"boldly\")...(\"before\"|\"gone\")$$\n",
    "\n",
    "其中每一项的计算可表示为：\n",
    "\n",
    "$$p(\"go\"|\"boldly\") = \\frac{C(\"boldly\\ go\")}{C(\"boldly\")}$$"
   ]
  },
  {
   "cell_type": "markdown",
   "metadata": {},
   "source": [
    "这就是`n=2`的情况下，n-gram**概率语言模型**的应用，gram限制上下文考察范围，概率模型指运用词语**共现**的思想，考察词组搭配的**统计概率**。\n",
    "\n",
    "我们也可以取更大的n，如n=3的表达式如下：\n",
    "\n",
    "$$p_{sent} = p(\"boldly\")...p(\"gone\"|\"man\\ has\")(\"before\"|\"has\\ gone\")$$\n",
    "\n",
    "$$p(\"gone\"|\"man\\ has\") = \\frac{C(\"man\\ has\\ gone\")}{C(\"man\\ has\")}$$\n",
    "\n",
    "但是当n取得越大，词组搭配数越多，概率分布就**越稀疏**。一般来说取n为2或3即可。"
   ]
  },
  {
   "cell_type": "markdown",
   "metadata": {},
   "source": [
    "## n-gram概率模型的应用\n",
    "根据上述，n-gram概率模型可以用来提取文本中的语法结构。另外，其对于文本内容也极为敏感，（比如：用金融语料和用人文语料训练出来的模型会完全不同）。列举几个主要应用：\n",
    "+ 词性标注。对于同时具备名词和动词词性的词语，其词性由上下文词语词性决定\n",
    "+ 分词。如“勇踏前人未至之境”分词后为`“勇踏”“前人”“未至之境”`的概率应大于`“勇踏前”“人未”“至之境”`\n",
    "+ 语音识别。如`“现在几点了”`的概率应大于`“西安积淀了”`\n",
    "+ 自然语言生成。不仅可以满足语法正确要求，还可以模仿训练语料的文风"
   ]
  },
  {
   "cell_type": "markdown",
   "metadata": {},
   "source": [
    "待补充实例代码（能否利用n-gram模型生成瓦肯语/莉言莉语）\n",
    "\n",
    "最好理一理natural language generating，尤其neural。\n",
    "\n",
    "<img src='images/memes/new_project.png'>"
   ]
  }
 ],
 "metadata": {
  "kernelspec": {
   "display_name": "Python 3",
   "language": "python",
   "name": "python3"
  },
  "language_info": {
   "codemirror_mode": {
    "name": "ipython",
    "version": 3
   },
   "file_extension": ".py",
   "mimetype": "text/x-python",
   "name": "python",
   "nbconvert_exporter": "python",
   "pygments_lexer": "ipython3",
   "version": "3.7.3"
  }
 },
 "nbformat": 4,
 "nbformat_minor": 4
}
