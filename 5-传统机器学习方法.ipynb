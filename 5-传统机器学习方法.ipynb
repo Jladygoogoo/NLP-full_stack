{
 "cells": [
  {
   "cell_type": "markdown",
   "metadata": {},
   "source": [
    "# 5 - 传统机器学习方法\n",
    "当我们完成文本数据预处理和表示后，就可以开始建模了。传统的机器学习方法，主要解决的还是分类问题，把数据丢进现成的模型（逻辑回归、SVM、随机森林）后，或许利用集成学习的方法，再调一调参数，事情也就这样了。就像拿着材料和图纸建房子，参数的不同无非是这里开扇窗那里少堵墙的问题。然而随着深度学习的发展，我们进入了乐高的世界，利用不同的模块，可以有无数种复杂的模型构造，从而使得更多问题有了更深层次的解决方案。\n",
    "\n",
    "但这并不是说深度学习一定会好过传统的机器学习方法，毕竟自己设计房子需要更多时间，而且也无法保证每个人都是好的建筑师。所以还是应该根据问题情境来选择模型。\n",
    "\n",
    "这一节先简单展示几个机器学习模型的在文本数据上的应用。之后会结合pytorch搭建深度学习模型。"
   ]
  },
  {
   "cell_type": "code",
   "execution_count": null,
   "metadata": {},
   "outputs": [],
   "source": []
  }
 ],
 "metadata": {
  "kernelspec": {
   "display_name": "Python 3",
   "language": "python",
   "name": "python3"
  },
  "language_info": {
   "codemirror_mode": {
    "name": "ipython",
    "version": 3
   },
   "file_extension": ".py",
   "mimetype": "text/x-python",
   "name": "python",
   "nbconvert_exporter": "python",
   "pygments_lexer": "ipython3",
   "version": "3.7.3"
  }
 },
 "nbformat": 4,
 "nbformat_minor": 4
}
